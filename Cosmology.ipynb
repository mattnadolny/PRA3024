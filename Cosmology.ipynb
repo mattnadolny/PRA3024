{
  "nbformat": 4,
  "nbformat_minor": 0,
  "metadata": {
    "colab": {
      "name": "Cosmology.ipynb",
      "provenance": [],
      "collapsed_sections": [
        "Hxy2SP9SXccN"
      ],
      "include_colab_link": true
    },
    "kernelspec": {
      "display_name": "Python 3",
      "language": "python",
      "name": "python3"
    },
    "language_info": {
      "codemirror_mode": {
        "name": "ipython",
        "version": 3
      },
      "file_extension": ".py",
      "mimetype": "text/x-python",
      "name": "python",
      "nbconvert_exporter": "python",
      "pygments_lexer": "ipython3",
      "version": "3.8.10"
    }
  },
  "cells": [
    {
      "cell_type": "markdown",
      "metadata": {
        "id": "view-in-github",
        "colab_type": "text"
      },
      "source": [
        "<a href=\"https://colab.research.google.com/github/mattnadolny/PRA3024/blob/main/Cosmology.ipynb\" target=\"_parent\"><img src=\"https://colab.research.google.com/assets/colab-badge.svg\" alt=\"Open In Colab\"/></a>"
      ]
    },
    {
      "cell_type": "markdown",
      "metadata": {
        "id": "TkdruF2bYl5j"
      },
      "source": [
        "# <font color='deepskyblue'>Cosmology MCMC notebook </font>"
      ]
    },
    {
      "cell_type": "markdown",
      "metadata": {
        "id": "t0SazaVif4pl"
      },
      "source": [
        "## <font color='deepskyblue'>Preliminaries</font>"
      ]
    },
    {
      "cell_type": "code",
      "metadata": {
        "colab": {
          "base_uri": "https://localhost:8080/"
        },
        "id": "y6hcXmMbhbMA",
        "scrolled": true,
        "outputId": "55c8459b-06e3-49ee-eed2-d0cfffc0c61b"
      },
      "source": [
        "# Load and install required packages (if not available on server)\n",
        "!pip install getdist\n",
        "import numpy as np\n",
        "import matplotlib.pyplot as plt\n",
        "import scipy.integrate as integrate\n",
        "import pylab\n",
        "import getdist\n",
        "import math\n",
        "from IPython.display import Image\n",
        "from getdist import plots, MCSamples, loadMCSamples\n"
      ],
      "execution_count": 59,
      "outputs": [
        {
          "output_type": "stream",
          "name": "stdout",
          "text": [
            "Requirement already satisfied: getdist in /usr/local/lib/python3.7/dist-packages (1.3.4)\n",
            "Requirement already satisfied: matplotlib!=3.5.0,>=2.2.0 in /usr/local/lib/python3.7/dist-packages (from getdist) (3.2.2)\n",
            "Requirement already satisfied: scipy>=1.5.0 in /usr/local/lib/python3.7/dist-packages (from getdist) (1.7.3)\n",
            "Requirement already satisfied: PyYAML>=5.1 in /usr/local/lib/python3.7/dist-packages (from getdist) (6.0)\n",
            "Requirement already satisfied: numpy>=1.17.0 in /usr/local/lib/python3.7/dist-packages (from getdist) (1.21.5)\n",
            "Requirement already satisfied: pyparsing!=2.0.4,!=2.1.2,!=2.1.6,>=2.0.1 in /usr/local/lib/python3.7/dist-packages (from matplotlib!=3.5.0,>=2.2.0->getdist) (3.0.7)\n",
            "Requirement already satisfied: cycler>=0.10 in /usr/local/lib/python3.7/dist-packages (from matplotlib!=3.5.0,>=2.2.0->getdist) (0.11.0)\n",
            "Requirement already satisfied: kiwisolver>=1.0.1 in /usr/local/lib/python3.7/dist-packages (from matplotlib!=3.5.0,>=2.2.0->getdist) (1.3.2)\n",
            "Requirement already satisfied: python-dateutil>=2.1 in /usr/local/lib/python3.7/dist-packages (from matplotlib!=3.5.0,>=2.2.0->getdist) (2.8.2)\n",
            "Requirement already satisfied: six>=1.5 in /usr/local/lib/python3.7/dist-packages (from python-dateutil>=2.1->matplotlib!=3.5.0,>=2.2.0->getdist) (1.15.0)\n"
          ]
        }
      ]
    },
    {
      "cell_type": "markdown",
      "metadata": {
        "id": "ayxOF90lVqKY"
      },
      "source": [
        "\n",
        "<font color='tomato'>\n",
        "(NB: The equations you'll directly need to build your code are those $\\boxed{\\text{with a box around}}$)\n",
        "</font>\n",
        "\n",
        "## <font color='deepskyblue'>The $\\Lambda$CDM Model</font>\n",
        "\n",
        "The Lambda-Cold-Dark-Matter ($\\Lambda$CDM) Model is our concordance cosmological model. It postulates a Universe that behaves according to **General Relativity**, filled with **baryons** (protons, neutrons - the stuff we and stars are made of!), **Cold Dark Matter (CDM)** and a **Cosmological Constant** $\\Lambda$.\n",
        "\n",
        "The expansion of the Universe is best described in terms of the **scale factor** $a$ (the \"radius\" of the Universe, conventionally set to 1 today) and the **Hubble rate** $H$\n",
        "\n",
        "$$\n",
        "H \\equiv \\frac{\\dot a}{a}\n",
        "$$\n",
        "\n",
        "The Einstein Equations in a **homogeneous, isotropic** Universe have an especially simple form and a special name, **Friedmann Equation**:\n",
        "\n",
        "$$\n",
        "H^2 = \\frac{8\\pi G}{3}\\rho + \\frac{k}{a^2}\n",
        "$$\n",
        "\n",
        "where $\\rho$ is the total energy density of the Universe (at a certain time or size), and $k$ is a universal constant related to the [spatial curvature and shape of the Universe](https://en.wikipedia.org/wiki/Shape_of_the_universe#:~:text=The%20spatial%20curvature%20is%20related,indistinguishable%20spaces%20with%20different%20topologies.). In the $\\Lambda$CDM model (and at late enough times), this additionally simplifies to\n",
        "\n",
        "$$\n",
        "\\boxed{\n",
        "H^2 = H_0^2\\left(\\Omega_\\Lambda + \\Omega_m a^{-3} + \\Omega_k a^{-2}\\right)\n",
        "}\n",
        "\\qquad\n",
        "\\qquad\n",
        "\\boxed{\n",
        "\\Omega_m + \\Omega_\\Lambda + \\Omega_k = 1\n",
        "}\n",
        "\\tag{1}\n",
        "$$\n",
        "\n",
        "$H_0$ is the value of the Hubble rate *today*, and the parameters $\\Omega_m$, $\\Omega_\\Lambda$ and $\\Omega_k$ are dimensionless quantities indicating how much of the present expansion of the Universe is due to (non-relativistic) matter, cosmological constant $\\Lambda$, and spatial curvature $k$. Note that the three $\\Omega$'s are *not independent* (their sum is 1) and that we grouped together the contribution of baryons and CDM,\n",
        "\n",
        "$$\n",
        "\\Omega_m = \\Omega_{\\rm CDM} + \\Omega_{\\rm b}\n",
        "$$\n",
        "\n",
        "and that we have evidence that independent evidence that $\\Omega_b \\approx 5$\\%. Note that only $\\Omega_m \\geq 0$ makes physical sense, while in principle both $\\Omega_\\Lambda$ and $\\Omega_k$ can be negative.\n",
        "\n",
        "The present Hubble rate is conventionally parametrised in terms of the dimensionless $h$:\n",
        "\n",
        "$$\n",
        "\\boxed{H_0 \\equiv h\\,\\frac{100 \\,\\text{km}}{\\text{s Mpc}}}\n",
        "\\tag{2}\n",
        "$$\n",
        "\n",
        "where Mpc = Megaparsec and [parsec](https://en.wikipedia.org/wiki/Parsec) equals to about $3.26$ light years or $3.086 \\cdot 10^{16}$ m. \n",
        "\n",
        "In essence, these equations give us the relation between *what exists in the Universe* and *how the Universe expanded*. Measure one, I can tell you the other. This is precisely what we aim to do!\n",
        "\n",
        "Time to define the function $H(z)$. Don't forget to include the useful parameters as arguments of the function, and to define `parsec`."
      ]
    },
    {
      "cell_type": "code",
      "metadata": {
        "id": "CFIYCrH2XccJ",
        "colab": {
          "base_uri": "https://localhost:8080/"
        },
        "outputId": "7dc98d41-2dc9-4b15-a805-e2018375b7f5"
      },
      "source": [
        "# Hubble rate: look at equations (1) and (2) for the definition!\n",
        "pc = 3.086*(10**16)\n",
        "mpc = 3.086*(10**22)\n",
        "H0 = 69.3 #from nasa.gov in [km/sec/Mpc]\n",
        "#OmegaZ = 1-OmegaL-OmegaM\n",
        "\n",
        "\n",
        "def Hubble(z, H0, OmegaL, OmegaM): \n",
        "  H = H0* math.sqrt(OmegaL + OmegaM * (1+z)**3 + (1-OmegaL-OmegaM) * (1+z) **2)\n",
        "  return H\n",
        "print(Hubble(0.5, H0, 0.7, 0.3))"
      ],
      "execution_count": 60,
      "outputs": [
        {
          "output_type": "stream",
          "name": "stdout",
          "text": [
            "90.68772863513564\n"
          ]
        }
      ]
    },
    {
      "cell_type": "markdown",
      "metadata": {
        "id": "NNm-m0auXccK"
      },
      "source": [
        "## <font color='deepskyblue'>Supernovae Ia</font>\n",
        "\n",
        "In order to track the expansion of the Universe, we will look at Supernovae type Ia observations. SNIa are formed when a *white dwarf* accretes matter from a companion until it reaches a critical mass of about $1.44 M_\\odot$ (solar masses), after which it explodes **at always the same luminosity** $L_{\\rm SN}$. Therefore, the observed [magnitude](https://en.wikipedia.org/wiki/Magnitude_(astronomy)) is only a function of their [**luminosity distance**](https://en.wikipedia.org/wiki/Distance_measures_(cosmology)) from Earth, defined as the ratio of the intrinsic luminosity $L_{\\rm SNIa}$ and the measured *surface brightness* $\\Phi$ (energy per unit time per unit area)\n",
        "\n",
        "$$ d_L\\equiv \\frac{L_{\\rm SN}}{4\\pi \\Phi} $$\n",
        "\n",
        "While photons (light rays) travel from the distant SNIa to Earth, the Universe expands and the photons get redshifted, and this redshift is directly related to the size of the Universe when the photon was emitted compared to today:\n",
        "\n",
        "$$ \\frac{\\lambda_{\\rm obs}}{\\lambda_{\\rm em}} \\equiv 1 + z_{\\rm em} = \\frac{1}{a_{\\rm em}}$$\n",
        "\n",
        "We can express the luminosity distance in terms of the Hubble rate:\n",
        "\n",
        "$$\n",
        "\\boxed{\n",
        "d_L(z) = \\frac{c}{H_0}(1+z) \\times \n",
        "\\begin{cases}\n",
        "    \\cfrac{1}{\\sqrt{\\Omega_k}} \\,\\sinh\\left(\\sqrt{\\Omega_k}\\,D(z)\\right) & \\Omega_k > 0\n",
        "    \\\\[.5em]\n",
        "    D(z) & \\Omega_k = 0\n",
        "    \\\\[.5em]\n",
        "    \\cfrac{1}{\\sqrt{-\\Omega_k}} \\,\\sin\\left(\\sqrt{-\\Omega_k}\\,D(z)\\right) & \\Omega_k < 0\n",
        "\\end{cases}\n",
        "\\qquad\\qquad\n",
        "D(z) \\equiv H_0\\int_0^z \\frac{{\\rm d}Z}{H(Z)}\n",
        "}\n",
        "\\tag{3}\n",
        "$$\n",
        "\n",
        "where $c$ is the speed of light: $c \\simeq 2.998 \\cdot 10^{5}$ km/s.\n",
        "\n",
        "Clearly, there exists a relation between $d_L(z)$ and $H(z)$, so the luminosity distance is a useful measure of the Universe expansion history. \n",
        "In practice, however, the actual observable for [Supernovae Type Ia](https://en.wikipedia.org/wiki/Type_Ia_supernova) (or SNIa) is the [distance modulus](https://en.wikipedia.org/wiki/Distance_modulus) $\\mu$, defined as the difference between the *apparent magnitude* $m$ and the *absolute magnitude* $M$:\n",
        "\n",
        "$$\n",
        "\\boxed{\n",
        "\\mu(z) \\equiv m(z) - M \\equiv 5 \\log_{10} \\frac{d_L(z)}{10\\,\\text{pc}}\n",
        "}\n",
        "\\tag{4}\n",
        "$$\n",
        "\n",
        "We can create the function `dL(z, h, Omega_m, Omega_Lambda)`. You can also pass the function `Hubble` as an argument: `dL(z, Hubble, Omega_m, Omega_Lambda)`. Additionally, you can create $D(z)$ for your convenience.\n",
        "\n",
        "Note that you need to integrate the function $H(z)$, so write your own quick-and-easy numerical integrator, for example implementing the [trapezoidal rule](https://en.wikipedia.org/wiki/Trapezoidal_rule) or your favourite alternative, or [look up the pre-written methods](https://docs.scipy.org/doc/scipy/tutorial/integrate.html). Make sure it returns $d_L$ in parsecs and that it uses $H_0$ measured in units of 100 km/s/Mpc (which we called $h$)."
      ]
    },
    {
      "cell_type": "code",
      "metadata": {
        "id": "QAwegy3UXccK",
        "colab": {
          "base_uri": "https://localhost:8080/"
        },
        "outputId": "cdac0006-5289-42d9-9f8b-780d496a65af"
      },
      "source": [
        "c = 2.998*(10**8) #speed of light in m/s\n",
        "H0m = 69.3 #from nasa.gov in [km/sec/Mpc]\n",
        "h = H0/100\n",
        "Mpc = 1*(10**6) # Mpc = 10^6 parasec\n",
        "H0p = H0m/Mpc\n",
        "OmegaL = 0.6\n",
        "OmegaM = 0.3 \n",
        "OmegaK = 1-OmegaM-OmegaL \n",
        "z = 0.5 #random\n",
        "\n",
        "print(c, z, H0p, OmegaL, OmegaM)\n",
        "\n",
        "\n",
        "# Define 1/Hz again\n",
        "def Hz(z, H0, OmegaL, OmegaM):\n",
        "  Hz = H0* math.sqrt(OmegaL + OmegaM * (1+z)**3 + (1-OmegaL-OmegaM) * (1+z) **2)\n",
        "  return 1/Hz\n",
        "\n",
        "print(Hz(z, H0, OmegaL, OmegaM))\n",
        "\n",
        "# Define Dz\n",
        "def Dz(z, H0p, OmegaL, OmegaM):\n",
        "  Dz = integrate.quad(lambda x: Hz(x, H0p, OmegaL, OmegaM), 0, 100)\n",
        "  return Dz[0]\n",
        "\n",
        "\n",
        "\n",
        "def dL(z, H0p, OmegaL, OmegaM): # luminosity distance\n",
        "  if (1-OmegaM-OmegaL) > 0:\n",
        "    luminosity = (c/H0p)*(1+z)*1/math.sqrt(1-OmegaL-OmegaM)*math.sinh(math.sqrt((1-OmegaL-OmegaM)*Dz(z, H0p, OmegaL, OmegaM)))\n",
        "    return luminosity\n",
        "\n",
        "  elif (1-OmegaM-OmegaL) == 0:\n",
        "    luminosity = (c/H0p)*(1+z)*Dz(z, H0p, OmegaL, OmegaM)\n",
        "    return luminosity\n",
        "\n",
        "  else:\n",
        "    luminosity = ((c/H0p)*(1+z)*1/math.sqrt(-(1-OmegaL-OmegaM))*math.sin(math.sqrt(-(1-OmegaL-OmegaM) *Dz(z, H0p, OmegaL, OmegaM))))\n",
        "    return luminosity\n",
        "\n",
        "def dM(z, H0p, OmegaL, OmegaM): # distance modulus\n",
        "  return 5 * math.log10((dL(z, H0p, OmegaL, OmegaM)))\n",
        "\n",
        "\n",
        "\n",
        "print('The dL is:',dL(z, H0p, OmegaL, OmegaM))\n",
        "print('The dM is:',dM(z, H0p, OmegaL, OmegaM))\n",
        "\n"
      ],
      "execution_count": 78,
      "outputs": [
        {
          "output_type": "stream",
          "name": "stdout",
          "text": [
            "299800000.0 0.5 6.929999999999999e-05 0.6 0.3\n",
            "0.010645182013900686\n",
            "The dL is: 8.714786718840899e+40\n",
            "The dM is: 204.70128381439363\n"
          ]
        }
      ]
    },
    {
      "cell_type": "markdown",
      "metadata": {
        "id": "SLWjCnSSXccL"
      },
      "source": [
        "## <font color='deepskyblue'>The Union2.1 Compilation</font>\n",
        "\n",
        "Our source of data is from [Union2.1](http://supernova.lbl.gov/Union/). It is a collection of $580$ SNIa, each observation is comprised of redshift $z$ \n",
        "Our goal today is to use SNIa measurements to constrain the parameters ($h, \\Omega_\\Lambda, \\Omega_m$).\n",
        "\n",
        "In essence, we can calculate for each redshift the theoretical value of $\\mu$ using this equation with the expression for $d_L(z)$ and our model of choice $H(z)$ -- note that we will need to perform a numerical integral! -- and compare this value with observations. A different model would amount to changing the theoretical value of $H(z)$.\n",
        "\n",
        "Let us start by importing and plotting the data:"
      ]
    },
    {
      "cell_type": "code",
      "metadata": {
        "colab": {
          "base_uri": "https://localhost:8080/"
        },
        "id": "sKb3QGqXTuJ5",
        "outputId": "f18fcd8b-a927-4e61-b8f1-94dd7865720a"
      },
      "source": [
        "dataloc = \"http://supernova.lbl.gov/Union/figures/SCPUnion2.1_mu_vs_z.txt\"\n",
        "\n",
        "# Read in data as numpy array.\n",
        "# Format is [name, redshift, magnitude, magnitude error, and another number?]\n",
        "data = np.genfromtxt(dataloc)\n",
        "\n",
        "# Print the first line as an example. (Note that genfromtxt turns the names into 'Not A Number')\n",
        "print(data[0])"
      ],
      "execution_count": 79,
      "outputs": [
        {
          "output_type": "stream",
          "name": "stdout",
          "text": [
            "[           nan 2.84880000e-02 3.53465834e+01 2.23905933e-01\n",
            " 1.28418942e-01]\n"
          ]
        }
      ]
    },
    {
      "cell_type": "code",
      "metadata": {
        "id": "2mvAA83gVIHz"
      },
      "source": [
        "# Extract the redshifts (zs), distance modulus (dist_mod) and magnitude estimated errors (err_dist_mod)\n",
        "zs = data.T[1] # redshift\n",
        "distance_modulus = data.T[2] # distance modulus\n",
        "error_distance_modulus = data.T[3] # errors on distance modulus = sigmas"
      ],
      "execution_count": 80,
      "outputs": []
    },
    {
      "cell_type": "code",
      "metadata": {
        "id": "x2hF3drbVPEW"
      },
      "source": [
        "# Let's look at the data, just for fun. \n",
        "# We can look both at the raw data (distance modulus) or calculate the luminosity distance\n",
        "# Note that Numpy allows us to manipulate whole arrays at once with something like:\n",
        "#     array_2 = some_function_of(array_1)\n",
        "\n",
        "# luminosity distance in pc\n",
        "luminosity_distance_pc = 10. * 10.**(distance_modulus / 5.)\n",
        "\n",
        "# and in Mpc\n",
        "luminosity_distance_Mpc = luminosity_distance_pc / 10.**6\n",
        "\n",
        "# and the error on that distance:\n",
        "error_luminosity_distance_Mpc = 5. * (10.**((distance_modulus + error_distance_modulus)/5.-6.) - 10.**((distance_modulus - error_distance_modulus)/5.-6.))"
      ],
      "execution_count": 81,
      "outputs": []
    },
    {
      "cell_type": "code",
      "metadata": {
        "colab": {
          "base_uri": "https://localhost:8080/",
          "height": 334
        },
        "id": "o81D-kOYYwx5",
        "outputId": "0dac4f08-1726-4c74-84a1-1712475da611"
      },
      "source": [
        "plt.subplots(1, 2, figsize=(15, 5))\n",
        "\n",
        "# Plot distance modulus versus redshift (original data)\n",
        "plt.subplot(1, 2, 1)\n",
        "plt.xlabel(\"Redshift\")\n",
        "plt.ylabel(\"Distance Modulus\")\n",
        "plt.errorbar(zs, distance_modulus, yerr=error_distance_modulus, fmt='o', color='black', ecolor='darkcyan', markersize=4)\n",
        "\n",
        "# Plot luminosity distance versus redshift\n",
        "plt.subplot(1, 2, 2)\n",
        "plt.xlabel(\"Redshift\")\n",
        "plt.ylabel(\"Luminosity Distance [Mpc]\")\n",
        "plt.errorbar(zs, luminosity_distance_Mpc, yerr=error_luminosity_distance_Mpc, fmt='o', color='black', ecolor='darkcyan', markersize=4)\n",
        "plt.show()"
      ],
      "execution_count": 82,
      "outputs": [
        {
          "output_type": "display_data",
          "data": {
            "image/png": "[encoded data removed]",
            "text/plain": [
              "<Figure size 1080x360 with 2 Axes>"
            ]
          },
          "metadata": {
            "needs_background": "light"
          }
        }
      ]
    },
    {
      "cell_type": "markdown",
      "metadata": {
        "id": "Hxy2SP9SXccN"
      },
      "source": [
        "## <font color='deepskyblue'>Bayes' Theorem: Likelihood, Prior, Posterior (and Evidence...)</font>\n",
        "\n",
        "The **conditional probability of A given that B is true** is denoted with $P(A|B)$ (read: *probability of A given B*). \n",
        "Did A happen? Then B has probability $P(B|A)$ of happening.\n",
        "\n",
        "[**Bayes' Theorem**](https://en.wikipedia.org/wiki/Bayes%27_theorem) is simply a reflection of the symmetry of the concept of joint probability:\n",
        "\n",
        "$$\n",
        "P(A|B)P(B) = P(B|A)P(A)\n",
        "$$\n",
        "\n",
        "In physics, our goal is often to determine how likely the values of some parameters $\\theta$ are, given how well they reproduce the data $D$. \n",
        "We write Bayes' theorem in the following equivalent form:\n",
        "\n",
        "$$\n",
        "P(\\theta | D) = \\frac{P(D|\\theta)P(\\theta)}{P(D)}\n",
        "$$\n",
        "\n",
        "The various terms conventionally take the names:\n",
        "\n",
        "$$\n",
        "\\begin{aligned}\n",
        "P(\\theta | D) & && \\text{Posterior}\n",
        "\\\\\n",
        "P(D | \\theta)& && \\text{Likelihood}\n",
        "\\\\\n",
        "P(\\theta) & && \\text{Prior}\n",
        "\\\\\n",
        "P(D) & && \\text{Evidence}\n",
        "\\end{aligned}\n",
        "$$\n",
        "\n",
        "### <font color='deepskyblue'>Prior</font>\n",
        "\n",
        "The *prior* quantifies our degree of prior belief in the model parameters. It can contain the results of previous experiments, or theoretical considerations (for instance, that certain parameters cannot be negative, etc.). \n",
        "\n",
        "We can have *strong priors* about something - the Sun still existing at night, see the comic below - or not.\n",
        "When we do *not* have compelling prior knowledge about a parameter, we generally use a *non-informative* prior probability distribution, most often related to the [uniform distribution](https://en.wikipedia.org/wiki/Continuous_uniform_distribution)\n",
        "\n",
        "$$\n",
        "\\begin{aligned}\n",
        "    \\text{Uniform} & && \\theta \\in \\text{Uniform}[\\theta_{\\rm min}, \\theta_{\\rm max}]\n",
        "    \\\\\n",
        "    \\text{Log Uniform} & && \\log\\theta \\in \\text{Uniform}[\\log\\theta_{\\rm min}, \\log\\theta_{\\rm max}]\n",
        "\\end{aligned}\n",
        "$$\n",
        "\n",
        "You may sometimes hear that \"the prior doesn't matter\". While this is not strictly true, it is however true that in many instances the *likelihood* depends more dramatically on the parameters and will have a dominating contribution to the posterior. You are more than welcome to try different priors for the model parameters and see if and how your results change.\n",
        "\n",
        "### <font color='deepskyblue'>Likelihood</font>\n",
        "\n",
        "The measure of how well our model reproduces the data is the **likelihood** $\\mathcal L$. For normal (=Gaussian), uncorrelated data $\\mu_i$ with errors $\\sigma_i$ ($i = \\{1,580\\}$), the likelihood is related to the famous [**chi-squared**](https://en.wikipedia.org/wiki/Chi-square_distribution) via\n",
        "\n",
        "$$\n",
        "P(D | \\theta) \\equiv \\mathcal L = \\exp\\left(-\\frac{\\chi^2}{2}\\right)\n",
        "\\qquad\n",
        "\\qquad\n",
        "\\boxed{\n",
        "\\chi^2 \\equiv \\sum_{i=1}^{580} \\frac{\\left(\\mu_i^{(\\rm theor)} - \\mu_i^{(\\rm obs)}\\right)^2}{\\sigma_i^2}\n",
        "}\n",
        "\\tag{5}\n",
        "$$\n",
        "\n",
        "A *high likelihood* corresponds to a *low chi squared*.\n",
        "\n",
        "In principle, we could attack the problem brute-force: create a grid of values for $h$, $\\Omega_m$, $\\Omega_\\Lambda$, calculate the likelihood for each combination, and create a profile for the likelihood. \n",
        "\n",
        "In practical cases, however, this is not only sub-optimal but sometimes **impossible**. Think of complicated models with 20+ free parameters (this is not that unusual in physics, by the way). Even a very coarse grained grid of 100 values for each parameter would result in more than $10^{40}$ (!!!) different parameter combination to be tested. You can probably understand why this is undesirable.\n",
        "\n",
        "### <font color='deepskyblue'>Evidence</font>\n",
        "\n",
        "This is the tricky bit. The evidence, which is \"*the probability of observing certain data*\", is not something that is easy to evaluate or interpret. This looks like a serious limitation to finding the:\n",
        "\n",
        "\n",
        "### <font color='deepskyblue'>Posterior</font>\n",
        "\n",
        "What does the data tell us about the model parameters? The answer is the *posterior probability distribution*, often (but not necessarily) expressed as (average $\\pm$ standard deviation)\n",
        "\n",
        "$$\n",
        "\\theta_i = \\bar\\theta_i \\pm \\sigma_i\n",
        "$$\n",
        "\n",
        "In other words, the posterior tells us how likely it is for the model parameters to have certain values, *given that we observe the data* $D$.\n",
        "\n",
        "*This is the final goal of our analysis!*\n",
        "\n",
        "<br>\n",
        "\n",
        "![title](http://1.bp.blogspot.com/-tTx4HDejSww/ULcTeK9_V_I/AAAAAAAAA8g/PCYOH-eXGbk/s1600/frequentists_vs_bayesians.png)\n",
        "![title](https://i.redd.it/5r0hwixt0m931.jpg)"
      ]
    },
    {
      "cell_type": "markdown",
      "metadata": {
        "id": "lymI_LaObhcU"
      },
      "source": [
        "## <font color='deepskyblue'>Markov-Chain Monte Carlo</font>\n",
        "\n",
        "Markov-Chain Monte Carlo techniques are a class of methods to sample a probability distribution $P(x)$ - in our case $P(\\theta | D)$ - provided that we can calculate a density $\\mathcal F(x)$ **that is proportional to it** - in our case $P(\\theta)P(D|\\theta)$ = likelihood $\\times$ prior. Among these, a very popular one is the [**Metropolis-Hastings**](https://en.wikipedia.org/wiki/Metropolis%E2%80%93Hastings_algorithm) algorithm, which is what we will use.\n",
        "\n",
        "Schematically, the algorithm works as follows:\n",
        "* Start with an $n$-tuple of parameters $\\theta_{\\rm old} = \\{\\theta_1, \\theta_2, \\dots\\}_{\\rm old}$ (in our case $\\theta = \\{h,\\Omega_m,\\Omega_\\Lambda\\}$) and calculate the $\\mathcal F_{\\rm old}$\n",
        "* Propose a new set of parameters $\\theta_{\\rm prop}$, calculate the new corresponding $\\mathcal F_{\\rm prop}$. How you propose the new parameters is not essential as long as the probability of going from one set of parameters to the next is the same as the inverse: $P(\\theta_a \\to \\theta_b) = P(\\theta_b \\to \\theta_a)$. For this, we normally take Gaussian displacements with some (relatively small) standard deviation.\n",
        "* Compare the new and old likelihoods-priors:\n",
        "    * If $\\mathcal F_{\\rm prop} > \\mathcal F_{\\rm old}$, accept the step: $\\theta_{\\rm new} = \\theta_{\\rm prop}$\n",
        "    * Otherwise, accept with probability $P_{\\rm accept} = \\mathcal F_{\\rm prop}/\\mathcal F_{\\rm old}$\n",
        "* If accepted, $\\theta_{\\rm new} = \\theta_{\\rm prop}$ and record the step; otherwise, $\\theta_{\\rm new} = \\theta_{\\rm old}$ (no re-recording)\n",
        "* Update $\\theta_{\\rm old} = \\theta_{\\rm new}$\n",
        "* Repeat\n",
        "\n",
        "The MC chain keeps going until the desired number of steps or, ideally, when a suitable convergence test, like for example the [Gelman-Rubin test](https://bookdown.org/rdpeng/advstatcomp/monitoring-convergence.html), is satisfied. \n",
        "Today we will just set a limit to the total number of steps, but please feel free to implement and test your favourite convergence test!\n",
        "\n",
        "Looking at equation (5), you can convince yourself that\n",
        "$$\n",
        "\\frac{\\mathcal L_a}{\\mathcal L_b} = \\exp\\left(\\frac{\\chi_b^2 - \\chi_a^2}{2}\\right)\n",
        "$$\n",
        "\n",
        "(This is useful because $\\chi^2$ can be large, so we want to avoid the likelihoods evaluating to `0.` -- computers don't like dividing by zero, unfortunately)\n",
        "\n",
        " \n",
        "* <font color=\"deepskyblue\"> Start with an $n$-tuple of parameters $\\theta_{\\rm old} = \\{\\theta_1, \\theta_2, \\dots\\}_{\\rm old}$ (in our case $\\theta = \\{h,\\Omega_m,\\Omega_\\Lambda\\}$) and the corresponding chi squared $\\chi_{\\rm old}^2$ (to be clear, for us this implies calculating a series of 580 integrals and comparing each with the observed values) </font>\n",
        "* <font color=\"deepskyblue\"> Propose new parameters $\\theta_{\\rm prop}$ and calculate the corresponding chi squared $\\chi_{\\rm prop}^2$</font>\n",
        "* <font color=\"deepskyblue\"> Draw a random number $r \\in [0,1]$</font>\n",
        "* <font color=\"deepskyblue\"> Accept the step if \n",
        "$$\n",
        "r < \\exp\\left(\\frac{\\chi_{\\rm old}^2 - \\chi_{\\rm prop}^2}{2}\\right) \\frac{P(\\theta)_{\\rm prop}}{P(\\theta)_{\\rm old}}\n",
        "$$</font>\n",
        "    * <font color=\"deepskyblue\"> If accepted, update $\\theta_{\\rm old} = \\theta_{\\rm prop}$, and record; otherwise, $\\theta_{\\rm new} = \\theta_{\\rm old}$ (no re-recording)</font>\n",
        "    * <font color=\"deepskyblue\">If you want, you can keep a record of the best fit (lowest $\\chi^2$), but this is not the specific purpose of MCMC! We are exploring the parameter space and sampling a _posterior distribution_, not just finding the best fit</font>\n",
        "* <font color=\"deepskyblue\"> Repeat</font>"
      ]
    },
    {
      "cell_type": "code",
      "source": [
        "from os import PRIO_USER\n",
        "from numpy.lib.function_base import hamming\n",
        "from numpy import random\n",
        "\n",
        "filename = \"MC_Chain_SNIa.txt\" # Or choose your favourite filename, obviously\n",
        "file = open(filename,\"w\")\n",
        "\n",
        "N_steps = 500\n",
        "\n",
        "#Initial parameters \n",
        "Omega_L = 0.5\n",
        "Omega_M = 0.315 #>0\n",
        "h = 0.5 \n",
        "\n",
        "#arrays for later\n",
        "arrh, arrOmegaM, arrOmegaL = [],[],[]\n",
        "\n",
        "def chisq(OmegaL, OmegaM, h):\n",
        "  sum = 0\n",
        "  i=0\n",
        "  for i in range(500):\n",
        "    sum = sum + (((data.T[2][i] - dM(data.T[1][i], OmegaL, OmegaM, h))**2) / (data.T[3][i])**2)\n",
        "  return sum\n",
        "\n",
        "for i in range(N_steps):\n",
        "  #displacements\n",
        "  Omega_L_New = Omega_L + random.normal(0,Omega_L*0.01)\n",
        "  Omega_M_New = abs(Omega_M * math.exp(random.normal(0,Omega_M*0.01))) \n",
        "  h_New =  h * math.exp(random.normal(0,h*0.01))\n",
        "  \n",
        "  # loop\n",
        "  oldChisq = chisq(Omega_L, Omega_M, h)\n",
        "  newChisq = chisq(Omega_L_New, Omega_M_New, h_New)\n",
        "  probOld = math.exp(-oldChisq/2)\n",
        "  probNew = math.exp(-newChisq/2)\n",
        "  \n",
        "  #compare w/ random\n",
        "  try:\n",
        "    compval = (math.exp((oldChisq - newChisq)/2 ))\n",
        "  except OverflowError:\n",
        "    compval = float('inf')\n",
        "\n",
        "  #compare, change\n",
        "  if random.random() < compval :\n",
        "    Omega_L = Omega_L_New\n",
        "    Omega_M = Omega_M_New\n",
        "    h = h_New\n",
        "\n",
        "    arrOmegaL.append(Omega_L)\n",
        "    arrOmegaM.append(Omega_M)\n",
        "    arrh.append(h)\n",
        "    \n",
        "    print(round(Omega_L,3),round(Omega_M,3),round(h,3)) #parameters\n",
        "print(oldChisq) #final chisquare \n",
        "file.close();\n"
      ],
      "metadata": {
        "colab": {
          "base_uri": "https://localhost:8080/"
        },
        "id": "Zc13A3EDtIh9",
        "outputId": "476d295a-d38e-4793-c62c-e5e5045a087b"
      },
      "execution_count": 83,
      "outputs": [
        {
          "output_type": "stream",
          "name": "stdout",
          "text": [
            "0.501 0.316 0.5\n",
            "0.503 0.317 0.503\n",
            "0.507 0.315 0.503\n",
            "0.509 0.315 0.502\n",
            "0.515 0.314 0.503\n",
            "0.515 0.314 0.506\n",
            "0.516 0.313 0.506\n",
            "0.516 0.313 0.511\n",
            "0.517 0.312 0.518\n",
            "0.525 0.312 0.519\n",
            "0.536 0.313 0.514\n",
            "0.547 0.313 0.519\n",
            "0.551 0.312 0.522\n",
            "0.552 0.311 0.529\n",
            "0.561 0.311 0.529\n",
            "0.563 0.31 0.534\n",
            "0.571 0.309 0.532\n",
            "0.574 0.308 0.533\n",
            "0.576 0.307 0.536\n",
            "0.578 0.308 0.537\n",
            "0.583 0.309 0.538\n",
            "0.587 0.309 0.539\n",
            "0.597 0.31 0.539\n",
            "0.599 0.308 0.546\n",
            "0.599 0.308 0.549\n",
            "0.603 0.309 0.545\n",
            "0.604 0.309 0.542\n",
            "0.608 0.31 0.538\n",
            "0.612 0.311 0.538\n",
            "0.619 0.312 0.54\n",
            "0.62 0.312 0.54\n",
            "0.627 0.314 0.538\n",
            "0.633 0.315 0.535\n",
            "0.638 0.313 0.534\n",
            "0.641 0.312 0.536\n",
            "0.649 0.31 0.534\n",
            "0.649 0.31 0.536\n",
            "0.653 0.309 0.538\n",
            "0.657 0.31 0.539\n",
            "0.667 0.311 0.54\n",
            "0.671 0.311 0.536\n",
            "0.672 0.311 0.536\n",
            "0.678 0.312 0.536\n",
            "0.685 0.313 0.533\n",
            "0.685 0.314 0.533\n",
            "0.695 0.314 0.532\n",
            "0.695 0.314 0.534\n",
            "0.702 0.315 0.532\n",
            "0.711 0.314 0.53\n",
            "0.711 0.313 0.532\n",
            "0.717 0.313 0.533\n",
            "0.718 0.312 0.538\n",
            "0.727 0.313 0.542\n",
            "0.73 0.312 0.543\n",
            "0.729 0.311 0.547\n",
            "0.735 0.31 0.547\n",
            "0.741 0.31 0.546\n",
            "0.742 0.309 0.546\n",
            "0.745 0.31 0.547\n",
            "0.751 0.311 0.55\n",
            "0.757 0.31 0.548\n",
            "0.759 0.312 0.55\n",
            "0.765 0.31 0.55\n",
            "0.767 0.31 0.548\n",
            "0.78 0.31 0.55\n",
            "0.793 0.309 0.549\n",
            "0.798 0.309 0.55\n",
            "0.8 0.309 0.555\n",
            "0.808 0.308 0.557\n",
            "0.81 0.308 0.553\n",
            "0.823 0.308 0.556\n",
            "0.827 0.307 0.557\n",
            "0.841 0.307 0.557\n",
            "0.844 0.306 0.553\n",
            "0.849 0.307 0.549\n",
            "0.86 0.308 0.549\n",
            "0.868 0.306 0.551\n",
            "0.877 0.307 0.545\n",
            "0.881 0.305 0.547\n",
            "0.881 0.306 0.548\n",
            "0.894 0.307 0.551\n",
            "0.898 0.306 0.559\n",
            "0.904 0.305 0.559\n",
            "0.916 0.306 0.565\n",
            "0.917 0.305 0.566\n",
            "0.921 0.305 0.568\n",
            "0.924 0.307 0.566\n",
            "0.927 0.306 0.572\n",
            "0.928 0.307 0.571\n",
            "0.941 0.306 0.575\n",
            "0.951 0.307 0.577\n",
            "0.958 0.308 0.572\n",
            "0.97 0.307 0.564\n",
            "0.97 0.306 0.565\n",
            "0.982 0.307 0.571\n",
            "0.984 0.307 0.574\n",
            "0.992 0.306 0.582\n",
            "1.008 0.306 0.58\n",
            "1.009 0.305 0.581\n",
            "1.016 0.304 0.581\n",
            "1.025 0.304 0.58\n",
            "1.027 0.305 0.578\n",
            "1.051 0.306 0.58\n",
            "1.071 0.306 0.582\n",
            "1.082 0.305 0.577\n",
            "1.086 0.306 0.577\n",
            "1.114 0.305 0.578\n",
            "1.132 0.306 0.575\n",
            "1.159 0.307 0.575\n",
            "1.167 0.308 0.572\n",
            "1.182 0.308 0.569\n",
            "1.191 0.31 0.569\n",
            "1.203 0.311 0.568\n",
            "1.218 0.311 0.571\n",
            "1.223 0.312 0.567\n",
            "1.226 0.311 0.57\n",
            "1.232 0.311 0.561\n",
            "1.246 0.312 0.563\n",
            "1.272 0.311 0.559\n",
            "1.277 0.309 0.559\n",
            "1.285 0.31 0.554\n",
            "1.297 0.311 0.553\n",
            "1.299 0.312 0.554\n",
            "1.313 0.312 0.559\n",
            "1.314 0.313 0.559\n",
            "1.332 0.315 0.561\n",
            "1.334 0.314 0.562\n",
            "1.346 0.313 0.562\n",
            "1.347 0.315 0.56\n",
            "1.357 0.314 0.566\n",
            "1.371 0.314 0.567\n",
            "1.387 0.315 0.564\n",
            "1.414 0.313 0.565\n",
            "1.427 0.313 0.566\n",
            "1.442 0.312 0.562\n",
            "1.457 0.312 0.564\n",
            "1.474 0.309 0.568\n",
            "1.493 0.309 0.569\n",
            "1.512 0.309 0.567\n",
            "1.523 0.309 0.565\n",
            "1.523 0.31 0.565\n",
            "1.553 0.308 0.558\n",
            "1.582 0.308 0.56\n",
            "1.597 0.31 0.56\n",
            "1.629 0.309 0.562\n",
            "1.663 0.31 0.563\n",
            "1.687 0.309 0.563\n",
            "1.707 0.312 0.564\n",
            "1.723 0.313 0.567\n",
            "1.733 0.312 0.565\n",
            "1.761 0.312 0.572\n",
            "1.785 0.314 0.575\n",
            "1.792 0.315 0.576\n",
            "1.802 0.315 0.571\n",
            "1.808 0.314 0.569\n",
            "1.807 0.315 0.572\n",
            "1.806 0.314 0.578\n",
            "1.817 0.314 0.57\n",
            "1.836 0.315 0.572\n",
            "1.852 0.315 0.572\n",
            "1.857 0.315 0.573\n",
            "1.863 0.314 0.577\n",
            "1.874 0.314 0.578\n",
            "1.884 0.314 0.575\n",
            "1.917 0.314 0.568\n",
            "1.957 0.314 0.568\n",
            "1.991 0.314 0.565\n",
            "2.026 0.314 0.563\n",
            "2.042 0.314 0.565\n",
            "2.061 0.315 0.562\n",
            "2.096 0.315 0.563\n",
            "2.107 0.315 0.564\n",
            "2.116 0.313 0.562\n",
            "2.122 0.313 0.563\n",
            "2.137 0.313 0.562\n",
            "2.138 0.31 0.567\n",
            "2.143 0.308 0.565\n",
            "2.191 0.307 0.565\n",
            "2.206 0.308 0.563\n",
            "2.233 0.308 0.558\n",
            "2.257 0.309 0.559\n",
            "2.28 0.31 0.554\n",
            "2.298 0.31 0.561\n",
            "2.302 0.31 0.562\n",
            "2.318 0.308 0.56\n",
            "2.321 0.309 0.558\n",
            "2.335 0.309 0.557\n",
            "2.362 0.309 0.56\n",
            "2.384 0.311 0.564\n",
            "2.408 0.311 0.56\n",
            "2.422 0.311 0.56\n",
            "2.428 0.311 0.56\n",
            "2.484 0.31 0.566\n",
            "2.495 0.311 0.564\n",
            "2.511 0.311 0.566\n",
            "2.525 0.312 0.564\n",
            "2.524 0.314 0.566\n",
            "2.539 0.313 0.569\n",
            "2.574 0.313 0.57\n",
            "2.584 0.313 0.569\n",
            "2.587 0.313 0.566\n",
            "2.617 0.313 0.572\n",
            "2.642 0.313 0.569\n",
            "2.645 0.312 0.572\n",
            "2.652 0.313 0.571\n",
            "2.671 0.312 0.572\n",
            "2.703 0.311 0.571\n",
            "2.749 0.31 0.572\n",
            "2.751 0.309 0.58\n",
            "2.795 0.31 0.577\n",
            "2.804 0.311 0.579\n",
            "2.843 0.311 0.58\n",
            "2.846 0.312 0.577\n",
            "2.876 0.311 0.573\n",
            "2.914 0.311 0.572\n",
            "2.923 0.31 0.572\n",
            "2.923 0.311 0.576\n",
            "2.976 0.311 0.578\n",
            "3.002 0.31 0.573\n",
            "3.018 0.308 0.576\n",
            "3.038 0.309 0.58\n",
            "3.066 0.309 0.585\n",
            "3.088 0.309 0.586\n",
            "3.128 0.309 0.586\n",
            "3.167 0.308 0.589\n",
            "3.216 0.309 0.589\n",
            "3.22 0.308 0.596\n",
            "3.254 0.308 0.599\n",
            "3.309 0.307 0.595\n",
            "3.337 0.306 0.596\n",
            "3.381 0.305 0.602\n",
            "3.391 0.304 0.603\n",
            "3.399 0.304 0.603\n",
            "3.398 0.305 0.605\n",
            "3.4 0.306 0.612\n",
            "3.406 0.305 0.615\n",
            "3.425 0.305 0.608\n",
            "3.496 0.304 0.602\n",
            "3.52 0.305 0.606\n",
            "3.536 0.305 0.612\n",
            "3.54 0.307 0.612\n",
            "3.548 0.309 0.607\n",
            "3.562 0.31 0.611\n",
            "3.579 0.31 0.612\n",
            "3.583 0.31 0.615\n",
            "3.596 0.309 0.613\n",
            "3.597 0.308 0.615\n",
            "3.629 0.308 0.62\n",
            "3.643 0.308 0.619\n",
            "3.691 0.309 0.618\n",
            "3.743 0.309 0.625\n",
            "3.796 0.309 0.627\n",
            "3.827 0.309 0.627\n",
            "101175.99445601953\n"
          ]
        }
      ]
    },
    {
      "cell_type": "markdown",
      "metadata": {
        "id": "qw52S4G0XccR"
      },
      "source": [
        "After completion of the programme, your MC chain will (*hopefully*) look something like this:\n",
        "\n",
        "`#Omega_m  Omega_L  h`\n",
        "\n",
        "`0.297     0.703    0.698`\n",
        "\n",
        "`0.285     0.715    0.701`\n",
        "\n",
        "`0.288     0.712    0.699`\n",
        "\n",
        "`...`"
      ]
    },
    {
      "cell_type": "code",
      "source": [
        "#Comparison plots of data vs model\n",
        "\n",
        "plt.subplots(1, 2, figsize=(15, 5))\n",
        "\n",
        "#original data\n",
        "plt.subplot(1, 2, 1)\n",
        "plt.xlabel(\"Redshift\")\n",
        "plt.ylabel(\"Distance Modulus\")\n",
        "plt.errorbar(zs, distance_modulus, yerr=error_distance_modulus, fmt='o', color='black', ecolor='darkcyan', markersize=4)\n",
        "\n",
        "# Plotting the model\n",
        "modelvals = []\n",
        "for i in range(500):\n",
        "  modelvals.append(dM(data.T[1][i], Omega_L, Omega_M, h))\n",
        "\n",
        "plt.subplot(1, 2, 2)\n",
        "plt.xlabel(\"Redshift\")\n",
        "plt.ylabel(\"Luminosity Distance [Mpc]\")\n",
        "plt.scatter(zs, modelvals )\n",
        "plt.show()"
      ],
      "metadata": {
        "colab": {
          "base_uri": "https://localhost:8080/",
          "height": 334
        },
        "id": "Y6vUo3AIu1F0",
        "outputId": "6f3cfc59-54b9-463c-ea4a-f23fbb3f9342"
      },
      "execution_count": 85,
      "outputs": [
        {
          "output_type": "display_data",
          "data": {
            "image/png": "[encoded data removed]",
            "text/plain": [
              "<Figure size 1080x360 with 2 Axes>"
            ]
          },
          "metadata": {
            "needs_background": "light"
          }
        }
      ]
    },
    {
      "cell_type": "markdown",
      "metadata": {
        "id": "dB-wD3cLXccR"
      },
      "source": [
        "## <font color='deepskyblue'>Plotting: GetDist</font>\n",
        "\n",
        "We will do the plots with [`GetDist`](https://getdist.readthedocs.io/en/latest/plot_gallery.html).\n",
        "\n",
        "The plot gallery contains a lot of useful examples, you should be able to read them fairly easily and see which applies to your situation. Look for both (triangle) plots and for parameter estimation.\n",
        "\n",
        "Note that many `GetDist` functions require arguments of type `MCSamples`; make sure you convert your lists accordingly.\n",
        "\n",
        "<font color='deepskyblue'>\n",
        "Look at your results. Do you obtain $\\Omega_\\Lambda \\neq 0$? To a high degree of significance? \n",
        "\n",
        "If yes, then my dear friend, you have **DISCOVERED THE ACCELERATED EXPANSION OF THE UNIVERSE AND WON THE NOBEL PRIZE IN PHYSICS 2011!**\n",
        "</font>"
      ]
    },
    {
      "cell_type": "code",
      "metadata": {
        "id": "4JIvURq9XccR",
        "outputId": "46427b1c-db80-4f72-d5d1-93f66cb60ac6",
        "colab": {
          "base_uri": "https://localhost:8080/",
          "height": 900
        }
      },
      "source": [
        "# These are just randomly generated values. YOU WILL HAVE TO USE THE RESULTS OF YOUR MCMC CHAIN!\n",
        "h, OmegaM, OmegaL = np.random.normal(0.7, 0.03, N_steps), np.random.normal(0.3, 0.1, N_steps), np.random.normal(0.7, 0.1, N_steps)\n",
        "Omegak = 1. - OmegaM - OmegaL\n",
        "\n",
        "# Here let's just define variable names, labels, and so on\n",
        "my_labels = [r'h', r'\\Omega_m', r'\\Omega_\\Lambda', r'\\Omega_k']\n",
        "my_names = ['h', 'OmegaM', 'OmegaL', 'Omegak']\n",
        "my_dim = 4 # The number of variables we're plotting\n",
        "\n",
        "my_samples = np.array([h, OmegaM, OmegaL, Omegak]) # This creates a higher-dimensional array with all our data,\n",
        "my_samples = np.transpose(np.reshape(my_samples,(my_dim,int(my_samples.size/my_dim)))) # and this reshapes it in a convenient form...\n",
        "samples1 = MCSamples(samples = my_samples, labels = my_labels, names = my_names) # ... to create an \"MCSamples\" data type, which GetDist can use\n",
        "\n",
        "conf_level = 0.6827 # The usual 1-sigma confidence level. You can change to 2- or 3-sigma if you want\n",
        "\n",
        "# Let's print a table with the 1D posteriors (confidence levels)\n",
        "for nam in my_names:\n",
        "    print(round(samples1.confidence(nam,(1.-conf_level)/2.,upper=False),2), \\\n",
        "          \" < \", nam , \" < \", round(samples1.confidence(nam,(1.-conf_level)/2.,upper=True),2),\\\n",
        "          \" at \" , int(100*conf_level),\"\\b% CL\")\n",
        "print(\"\\n\\n\")\n",
        "\n",
        "#Triangle corner plot\n",
        "j = plots.getSubplotPlotter(subplot_size=3)\n",
        "j.settings.axes_labelsize = 22\n",
        "j.settings.axes_fontsize = 16\n",
        "j.triangle_plot(samples1, filled = True, title_limit=1)"
      ],
      "execution_count": 86,
      "outputs": [
        {
          "output_type": "stream",
          "name": "stdout",
          "text": [
            "Removed no burn in\n",
            "0.67  <  h  <  0.73  at  68 \b% CL\n",
            "0.19  <  OmegaM  <  0.4  at  68 \b% CL\n",
            "0.6  <  OmegaL  <  0.79  at  68 \b% CL\n",
            "-0.13  <  Omegak  <  0.15  at  68 \b% CL\n",
            "\n",
            "\n",
            "\n"
          ]
        },
        {
          "output_type": "display_data",
          "data": {
            "image/png": "[encoded data removed]",
            "text/plain": [
              "<Figure size 864x864 with 10 Axes>"
            ]
          },
          "metadata": {
            "needs_background": "light"
          }
        }
      ]
    },
    {
      "cell_type": "markdown",
      "source": [
        "## <font color='deepskyblue'>Further Improvements</font>\n",
        "\n",
        "There are many ways in which you can improve your code and/or your data visualisation. Some ideas, in random order:\n",
        "\n",
        "* Modify your priors and compare your results. For instance:\n",
        "  * Change to log-flat priors for $h$ and/or $\\Omega_m$, namely displace them in log-space instead of linear space:\n",
        "  $$\n",
        "  \\log(h_{\\rm new}) = \\log(h_{\\rm old}) + \\delta\n",
        "  $$\n",
        "  where $\\delta$ a random variable of mean 0\n",
        "  * Use priors from other cosmological probes, for example the [Planck 2018 results](https://arxiv.org/abs/1807.06209):\n",
        "  $$\n",
        "  \\Omega_m = 0.315 \\pm 0.007\\,,~\\dots\n",
        "  $$\n",
        "* Implement a Gelman-Rubin (or alternative) convergence test\n",
        "* Change colours and other properties of your triangle plot\n",
        "* Re-plot the data with your theoretical fits: you can try both your best fit, and some $1\\sigma$ \"error bars\"\n",
        "* Split your data in redshift bins and repeat the analysis for each bin individually.\n",
        "<br> _(What do you notice? Which redshift bins give us the most accurate detection of the cosmological parameters?)_"
      ],
      "metadata": {
        "id": "OAer6k-yngup"
      }
    }
  ]
}